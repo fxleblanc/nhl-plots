{
 "cells": [
  {
   "cell_type": "code",
   "execution_count": 56,
   "metadata": {},
   "outputs": [],
   "source": [
    "%matplotlib inline\n",
    "\n",
    "import matplotlib\n",
    "import numpy as np\n",
    "import matplotlib.pyplot as plt\n",
    "import requests\n",
    "import pandas as pd\n",
    "import json\n",
    "import numpy as np"
   ]
  },
  {
   "cell_type": "code",
   "execution_count": 57,
   "metadata": {},
   "outputs": [],
   "source": [
    "player_id = 8475170"
   ]
  },
  {
   "cell_type": "code",
   "execution_count": 58,
   "metadata": {},
   "outputs": [],
   "source": [
    "resp = requests.get(\"https://statsapi.web.nhl.com/api/v1/people/{}/stats?stats=gameLog\".format(player_id))\n",
    "data = resp.json()\n",
    "#print(json.dumps(data['stats'][0]['splits'], indent=2))"
   ]
  },
  {
   "cell_type": "code",
   "execution_count": 59,
   "metadata": {},
   "outputs": [],
   "source": [
    "splits = pd.read_json(json.dumps(data['stats'][0]['splits']))\n",
    "games = pd.DataFrame(list(splits['game']))\n",
    "gamePks = games['gamePk']\n",
    "stats = pd.DataFrame(list(splits['stat']))\n",
    "goals = stats['goals']\n",
    "assists = stats['assists']\n",
    "dates = splits['date']\n",
    "df = pd.DataFrame(data={'gamePk': gamePks, 'goals': goals, 'assists': assists, 'date': dates})"
   ]
  },
  {
   "cell_type": "code",
   "execution_count": 60,
   "metadata": {},
   "outputs": [],
   "source": [
    "df = df.sort_values(by='date')"
   ]
  },
  {
   "cell_type": "code",
   "execution_count": 66,
   "metadata": {},
   "outputs": [],
   "source": [
    "df['csgoals'] = df['goals'].cumsum()\n",
    "df['csassists'] = df['assists'].cumsum()\n",
    "df['cspoints'] = df['goals'].add(df['assists']).cumsum()"
   ]
  },
  {
   "cell_type": "code",
   "execution_count": 67,
   "metadata": {},
   "outputs": [
    {
     "data": {
      "text/plain": [
       "[<matplotlib.lines.Line2D at 0x7f1da33b5128>]"
      ]
     },
     "execution_count": 67,
     "metadata": {},
     "output_type": "execute_result"
    },
    {
     "data": {
      "image/png": "[encoded data removed]",
      "text/plain": [
       "<matplotlib.figure.Figure at 0x7f1da346f4a8>"
      ]
     },
     "metadata": {},
     "output_type": "display_data"
    }
   ],
   "source": [
    "plt.plot(df['date'],df['csgoals'])\n",
    "plt.plot(df['date'], df['csassists'])\n",
    "plt.plot(df['date'], df['cspoints'])"
   ]
  }
 ],
 "metadata": {
  "kernelspec": {
   "display_name": "Python 3",
   "language": "python",
   "name": "python3"
  },
  "language_info": {
   "codemirror_mode": {
    "name": "ipython",
    "version": 3
   },
   "file_extension": ".py",
   "mimetype": "text/x-python",
   "name": "python",
   "nbconvert_exporter": "python",
   "pygments_lexer": "ipython3",
   "version": "3.5.4"
  }
 },
 "nbformat": 4,
 "nbformat_minor": 2
}
